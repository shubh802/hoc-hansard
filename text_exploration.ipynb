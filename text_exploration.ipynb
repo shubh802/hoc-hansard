{
 "cells": [
  {
   "cell_type": "markdown",
   "metadata": {},
   "source": [
    "### <center>Exploring Hansard Data</center>"
   ]
  },
  {
   "cell_type": "markdown",
   "metadata": {},
   "source": [
    "In this notebook we will explore the text in the hansard data for the time range of 2021 and 2020."
   ]
  },
  {
   "cell_type": "code",
   "execution_count": 1,
   "metadata": {},
   "outputs": [],
   "source": [
    "import pandas as pd\n",
    "import numpy as np\n",
    "import matplotlib.pyplot as plt\n",
    "import warnings\n",
    "from warnings import filterwarnings\n",
    "from pylab import rcParams\n",
    "filterwarnings(action='ignore', category=DeprecationWarning)\n",
    "\n",
    "from utils.utils import *\n",
    "\n",
    "%matplotlib inline"
   ]
  },
  {
   "cell_type": "code",
   "execution_count": 2,
   "metadata": {},
   "outputs": [],
   "source": [
    "from PIL import Image\n",
    "from wordcloud import WordCloud\n",
    "\n",
    "rcParams['figure.figsize'] = 12, 8"
   ]
  },
  {
   "cell_type": "code",
   "execution_count": 1,
   "metadata": {},
   "outputs": [],
   "source": [
    "class HOCDataExploration:   \n",
    "\n",
    "    \"\"\"\n",
    "       A class used to explore hansard data for parliamentary speeches using word cloud,\n",
    "       topics discussed and plots\n",
    "    \"\"\"\n",
    "    \n",
    "    base_path = r'./assets/images/'\n",
    "\n",
    "    def __init__(self, df_head_dt_gp_21, df_head_dt_gp_20):\n",
    "        self.df_head_dt_gp_21 = df_head_dt_gp_21\n",
    "        self.df_head_dt_gp_20 = df_head_dt_gp_20\n",
    "\n",
    "    def wordcloud_data(self,df):\n",
    "        \"\"\" The function creates data for word cloud and returns it.\n",
    "            Firstly the speech_processed is splitted and the token of words are created.\n",
    "            Then the wordcloud is created and returned after adding background and the fonts.\n",
    "        df - Dataframe \"\"\"\n",
    "\n",
    "        parliament_words = ''\n",
    "        mask = np.array(Image.open(HOCDataExploration.base_path+'parliament_mask.jpg'))\n",
    "        for text in df.speech_processed:\n",
    "            tokens = text.split()\n",
    "            parliament_words +=' '.join(tokens)+\" \"\n",
    "            wordcloud = WordCloud(width = 800, height = 800,\n",
    "            mask=mask,\n",
    "            background_color ='white',\n",
    "            min_font_size = 10).generate(parliament_words)\n",
    "        return wordcloud\n",
    "\n",
    "    def plot_word_cloud(self, wordcloud, file):\n",
    "            \"\"\" The function plots the wordcloud data and save the file\n",
    "            wordcloud - wordcloud data\n",
    "            file - image name to be saved \"\"\"\n",
    "\n",
    "            plt.figure(figsize = (10, 10), facecolor = 'white', edgecolor='blue')\n",
    "            plt.imshow(wordcloud)\n",
    "            plt.axis(\"off\")\n",
    "            plt.title(f\"Word Cloud of {file}\", fontsize=35)\n",
    "            plt.tight_layout(pad = 0)\n",
    "            plt.savefig(HOCDataExploration.base_path+file+'.png')\n",
    "            plt.show()\n",
    "\n",
    "    def get_topics_plot(self, df, name):\n",
    "            \"\"\" The function plots the topics discussed and save the file\n",
    "            df - dataframe\n",
    "            file - image name to be saved \"\"\"\n",
    "\n",
    "            plt.figure(figsize=(8,17))\n",
    "            df['major_heading'].value_counts()[:100].plot(kind='barh')\n",
    "            plt.title(\"Major Topics of HOC in 2021\", fontsize=25)\n",
    "            plt.ylabel(\"Major Heading\", fontsize=16)\n",
    "            plt.xlabel(\"No of Speeches\", fontsize=16)\n",
    "            plt.savefig(HOCDataExploration.base_path+name+'.png')\n",
    "            plt.show()"
   ]
  }
 ],
 "metadata": {
  "kernelspec": {
   "display_name": "Python 3.9.0 ('thesis')",
   "language": "python",
   "name": "python3"
  },
  "language_info": {
   "codemirror_mode": {
    "name": "ipython",
    "version": 3
   },
   "file_extension": ".py",
   "mimetype": "text/x-python",
   "name": "python",
   "nbconvert_exporter": "python",
   "pygments_lexer": "ipython3",
   "version": "3.9.0"
  },
  "orig_nbformat": 4,
  "vscode": {
   "interpreter": {
    "hash": "334928be5ed23319e5e6550927c5d4f3c3b4919c511fd9b77eaf79aad6ef04de"
   }
  }
 },
 "nbformat": 4,
 "nbformat_minor": 2
}
